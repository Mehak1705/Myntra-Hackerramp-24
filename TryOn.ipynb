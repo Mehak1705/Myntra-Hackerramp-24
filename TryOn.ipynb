{
  "nbformat": 4,
  "nbformat_minor": 0,
  "metadata": {
    "colab": {
      "provenance": []
    },
    "kernelspec": {
      "name": "python3",
      "display_name": "Python 3"
    },
    "language_info": {
      "name": "python"
    }
  },
  "cells": [
    {
      "cell_type": "markdown",
      "source": [
        "## Environment Setup"
      ],
      "metadata": {
        "id": "cx2rVFcwoEmr"
      }
    },
    {
      "cell_type": "code",
      "source": [
        "!pip install --upgrade --no-cache-dir gdown\n",
        "!pip install rembg[gpu] gradio==3.45.0"
      ],
      "metadata": {
        "id": "oMOUytoSoVJB"
      },
      "execution_count": null,
      "outputs": []
    },
    {
      "cell_type": "code",
      "source": [
        "! wget -c \"https://github.com/Kitware/CMake/releases/download/v3.19.6/cmake-3.19.6.tar.gz\"\n",
        "! tar xf cmake-3.19.6.tar.gz\n",
        "! cd cmake-3.19.6 && ./configure && make && sudo make install"
      ],
      "metadata": {
        "id": "Q9sLO8gnoZ1g"
      },
      "execution_count": null,
      "outputs": []
    },
    {
      "cell_type": "code",
      "source": [
        "# Install library\n",
        "! sudo apt-get --assume-yes update\n",
        "! sudo apt-get --assume-yes install build-essential\n",
        "# OpenCV\n",
        "! sudo apt-get --assume-yes install libopencv-dev\n",
        "# General dependencies\n",
        "! sudo apt-get --assume-yes install libatlas-base-dev libprotobuf-dev libleveldb-dev libsnappy-dev libhdf5-serial-dev protobuf-compiler\n",
        "! sudo apt-get --assume-yes install --no-install-recommends libboost-all-dev\n",
        "# Remaining dependencies, 14.04\n",
        "! sudo apt-get --assume-yes install libgflags-dev libgoogle-glog-dev liblmdb-dev\n",
        "# Python3 libs\n",
        "! sudo apt-get --assume-yes install python3-setuptools python3-dev build-essential\n",
        "! sudo apt-get --assume-yes install python3-pip\n",
        "! sudo -H pip3 install --upgrade numpy protobuf opencv-python\n",
        "# OpenCL Generic\n",
        "! sudo apt-get --assume-yes install opencl-headers ocl-icd-opencl-dev\n",
        "! sudo apt-get --assume-yes install libviennacl-dev"
      ],
      "metadata": {
        "id": "HqjmAdQsopFC"
      },
      "execution_count": null,
      "outputs": []
    },
    {
      "cell_type": "code",
      "source": [
        "ver_openpose = \"v1.7.0\"\n",
        "! echo $ver_openpose"
      ],
      "metadata": {
        "id": "AQ3YrtDSoyjx"
      },
      "execution_count": null,
      "outputs": []
    },
    {
      "cell_type": "code",
      "source": [
        "! git clone  --depth 1 -b \"$ver_openpose\" https://github.com/CMU-Perceptual-Computing-Lab/openpose.git"
      ],
      "metadata": {
        "id": "IQND6y7po2I8"
      },
      "execution_count": null,
      "outputs": []
    },
    {
      "cell_type": "code",
      "source": [
        "# manually downloading openpose models\n",
        "%%bash\n",
        "gdown 1I4UWTXN5RjtmcmUy6oKUzdUAfD1haNYC\n",
        "unzip models.zip\n",
        "mv /content/models/face/pose_iter_116000.caffemodel /content/openpose/models/face/pose_iter_116000.caffemodel\n",
        "mv /content/models/hand/pose_iter_102000.caffemodel /content/openpose/models/hand/pose_iter_102000.caffemodel\n",
        "mv /content/models/pose/body_25/pose_iter_584000.caffemodel /content/openpose/models/pose/body_25/pose_iter_584000.caffemodel\n",
        "mv /content/models/pose/coco/pose_iter_440000.caffemodel /content/openpose/models/pose/coco/pose_iter_440000.caffemodel\n",
        "mv /content/models/pose/mpi/pose_iter_160000.caffemodel /content/openpose/models/pose/mpi/pose_iter_160000.caffemodel\n",
        "rm -rf models\n",
        "rm models.zip"
      ],
      "metadata": {
        "id": "js07hx7po4RK"
      },
      "execution_count": null,
      "outputs": []
    },
    {
      "cell_type": "code",
      "source": [
        "! cd openpose && mkdir build && cd build\n",
        "! cd openpose/build && cmake -DUSE_CUDNN=OFF -DBUILD_PYTHON=ON ..\n",
        "# ! cd openpose/build && cmake ..\n"
      ],
      "metadata": {
        "id": "0qm5LYwGo-1b"
      },
      "execution_count": null,
      "outputs": []
    },
    {
      "cell_type": "code",
      "source": [
        "! cd openpose/build && make -j`nproc`\n",
        "! cd openpose && mkdir output"
      ],
      "metadata": {
        "id": "vY5zLMKxpGS0"
      },
      "execution_count": null,
      "outputs": []
    },
    {
      "cell_type": "code",
      "source": [
        "import os\n",
        "%cd /content/\n",
        "!rm -rf clothes-virtual-try-on\n",
        "!git clone https://github.com/practice404/clothes-virtual-try-on.git\n",
        "os.makedirs(\"/content/clothes-virtual-try-on/checkpoints\")"
      ],
      "metadata": {
        "id": "EJ55E1DkpHB9"
      },
      "execution_count": null,
      "outputs": []
    },
    {
      "cell_type": "code",
      "source": [
        "!gdown --id 18q4lS7cNt1_X8ewCgya1fq0dSk93jTL6 --output /content/clothes-virtual-try-on/checkpoints/alias_final.pth\n",
        "!gdown --id 1uDRPY8gh9sHb3UDonq6ZrINqDOd7pmTz --output /content/clothes-virtual-try-on/checkpoints/gmm_final.pth\n",
        "!gdown --id 1d7lZNLh51Qt5Mi1lXqyi6Asb2ncLrEdC --output /content/clothes-virtual-try-on/checkpoints/seg_final.pth"
      ],
      "metadata": {
        "id": "ieZ0wBDMpJUT"
      },
      "execution_count": null,
      "outputs": []
    },
    {
      "cell_type": "code",
      "source": [
        "!gdown --id 1ysEoAJNxou7RNuT9iKOxRhjVRNY5RLjx --output /content/clothes-virtual-try-on/cloth_segm_u2net_latest.pth --no-cookies"
      ],
      "metadata": {
        "id": "94ncycCppO4C"
      },
      "execution_count": null,
      "outputs": []
    },
    {
      "cell_type": "code",
      "source": [
        "%cd /content/\n",
        "!pip install ninja"
      ],
      "metadata": {
        "id": "rlUIj9DXpXLz"
      },
      "execution_count": null,
      "outputs": []
    },
    {
      "cell_type": "code",
      "source": [
        "!git clone https://github.com/PeikeLi/Self-Correction-Human-Parsing\n",
        "%cd Self-Correction-Human-Parsing\n",
        "!mkdir checkpoints"
      ],
      "metadata": {
        "id": "7wZGasPPpY2V"
      },
      "execution_count": null,
      "outputs": []
    },
    {
      "cell_type": "code",
      "source": [
        "# downloading LIP dataset model\n",
        "!gdown --id 1k4dllHpu0bdx38J7H28rVVLpU-kOHmnH\n",
        "!mv /content/Self-Correction-Human-Parsing/exp-schp-201908261155-lip.pth /content/Self-Correction-Human-Parsing/checkpoints/final.pth"
      ],
      "metadata": {
        "id": "FWWU6yf7paxx"
      },
      "execution_count": null,
      "outputs": []
    },
    {
      "cell_type": "code",
      "source": [
        "%cd /content/"
      ],
      "metadata": {
        "id": "Gmlb9HQGpcnc"
      },
      "execution_count": null,
      "outputs": []
    },
    {
      "cell_type": "code",
      "source": [
        "%%bash\n",
        "MINICONDA_INSTALLER_SCRIPT=Miniconda3-latest-Linux-x86_64.sh\n",
        "MINICONDA_PREFIX=/usr/local\n",
        "wget https://repo.continuum.io/miniconda/$MINICONDA_INSTALLER_SCRIPT\n",
        "chmod +x $MINICONDA_INSTALLER_SCRIPT\n",
        "./$MINICONDA_INSTALLER_SCRIPT -b -f -p $MINICONDA_PREFIX\n",
        "conda install --channel defaults conda python=3.8 --yes\n",
        "conda update --channel defaults --all --yes"
      ],
      "metadata": {
        "id": "6pySxJ1kpecI"
      },
      "execution_count": null,
      "outputs": []
    },
    {
      "cell_type": "code",
      "source": [
        "import sys\n",
        "_ = (sys.path\n",
        "        .append(\"/usr/local/lib/python3.6/site-packages\"))"
      ],
      "metadata": {
        "id": "38Lho4oDpgmr"
      },
      "execution_count": null,
      "outputs": []
    },
    {
      "cell_type": "code",
      "source": [
        "!conda install --channel conda-forge featuretools --yes"
      ],
      "metadata": {
        "id": "5Ifi3mGypkQA"
      },
      "execution_count": null,
      "outputs": []
    },
    {
      "cell_type": "code",
      "source": [
        "!pip install opencv-python torchgeometry"
      ],
      "metadata": {
        "id": "JGo-E7mypmIk"
      },
      "execution_count": null,
      "outputs": []
    },
    {
      "cell_type": "code",
      "source": [
        "!pip install torchvision"
      ],
      "metadata": {
        "id": "zo0rQKuAppbx"
      },
      "execution_count": null,
      "outputs": []
    },
    {
      "cell_type": "markdown",
      "source": [
        "## Virtual Try On"
      ],
      "metadata": {
        "id": "2qDGsW0kpskB"
      }
    },
    {
      "cell_type": "code",
      "source": [
        "def make_dir():\n",
        "  os.system(\"cd /content/ && mkdir inputs && cd inputs && mkdir test && cd test && mkdir cloth cloth-mask image image-parse openpose-img openpose-json\")"
      ],
      "metadata": {
        "id": "dPGhhozcp0On"
      },
      "execution_count": null,
      "outputs": []
    },
    {
      "cell_type": "code",
      "source": [
        "from PIL import Image\n",
        "\n",
        "def run(cloth, model):\n",
        "  make_dir()\n",
        "  cloth.save(\"/content/inputs/test/cloth/cloth.jpg\")\n",
        "  model.save(\"/content/inputs/test/image/model.jpg\")\n",
        "\n",
        "  # running script to compute the predictions\n",
        "  os.system(\"rm -rf /content/output/\")\n",
        "  os.system(\"python /content/clothes-virtual-try-on/run.py\")\n",
        "\n",
        "  # loading output\n",
        "  op = os.listdir(\"/content/output\")[0]\n",
        "  op = Image.open(f\"/content/output/{op}\")\n",
        "  return op"
      ],
      "metadata": {
        "id": "nWfcF6dWp21l"
      },
      "execution_count": null,
      "outputs": []
    },
    {
      "cell_type": "code",
      "source": [
        "import gradio as gr\n",
        "\n",
        "with gr.Blocks() as app:\n",
        "    with gr.Row():\n",
        "        gr.Markdown(\"<center><h1> Clothes Virtual Try ON </h1><center>\")\n",
        "    with gr.Row():\n",
        "        with gr.Column():\n",
        "            cloth_input = gr.Image(sources=['upload'], type=\"pil\", label=\"Upload the Cloth Image\")\n",
        "        with gr.Column():\n",
        "            model_input = gr.Image(sources=['upload'], type=\"pil\", label=\"Upload the Human Image\")\n",
        "    with gr.Row():\n",
        "        final_output = gr.Image(sources=['upload'], type=\"pil\", label=\"Final Prediction\")\n",
        "    with gr.Row():\n",
        "        submit_button = gr.Button(\"Submit\")\n",
        "\n",
        "    submit_button.click(fn=run, inputs=[cloth_input, model_input],\n",
        "                        outputs=[final_output])\n",
        "app.launch(debug=True, share=True)"
      ],
      "metadata": {
        "id": "WYv-0hPTp5G5"
      },
      "execution_count": null,
      "outputs": []
    }
  ]
}